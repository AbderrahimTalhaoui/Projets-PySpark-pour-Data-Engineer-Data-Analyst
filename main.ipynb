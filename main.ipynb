{
 "cells": [
  {
   "cell_type": "code",
   "execution_count": 1,
   "id": "83a31efe",
   "metadata": {},
   "outputs": [
    {
     "name": "stdout",
     "output_type": "stream",
     "text": [
      " la session a été creer avec succès\n"
     ]
    }
   ],
   "source": [
    "from pyspark.sql import SparkSession\n",
    "from pyspark.sql.functions import col, when, sum, round\n",
    "\n",
    "spark = SparkSession.builder.appName(\"analysefootball\").getOrCreate()\n",
    "print(\" la session a été creer avec succès\")"
   ]
  },
  {
   "cell_type": "code",
   "execution_count": 2,
   "id": "0a2ebe2a",
   "metadata": {},
   "outputs": [
    {
     "name": "stdout",
     "output_type": "stream",
     "text": [
      "+--------+---+------+----------+--------------+--------------+----+----+---+\n",
      "|Match_ID|Div|Season|      Date|      HomeTeam|      AwayTeam|FTHG|FTAG|FTR|\n",
      "+--------+---+------+----------+--------------+--------------+----+----+---+\n",
      "|       1| D2|  2009|2010-04-04|    Oberhausen|Kaiserslautern|   2|   1|  H|\n",
      "|       2| D2|  2009|2009-11-01|   Munich 1860|Kaiserslautern|   0|   1|  A|\n",
      "|       3| D2|  2009|2009-10-04| Frankfurt FSV|Kaiserslautern|   1|   1|  D|\n",
      "|       4| D2|  2009|2010-02-21| Frankfurt FSV|     Karlsruhe|   2|   1|  H|\n",
      "|       5| D2|  2009|2009-12-06|         Ahlen|     Karlsruhe|   1|   3|  A|\n",
      "|       6| D2|  2009|2010-04-03|  Union Berlin|     Karlsruhe|   1|   1|  D|\n",
      "|       7| D2|  2009|2009-08-14|     Paderborn|     Karlsruhe|   2|   0|  H|\n",
      "|       8| D2|  2009|2010-03-08|     Bielefeld|     Karlsruhe|   0|   1|  A|\n",
      "|       9| D2|  2009|2009-09-26|Kaiserslautern|     Karlsruhe|   2|   0|  H|\n",
      "|      10| D2|  2009|2009-11-21| Hansa Rostock|     Karlsruhe|   2|   1|  H|\n",
      "+--------+---+------+----------+--------------+--------------+----+----+---+\n",
      "\n"
     ]
    }
   ],
   "source": [
    "df_matches = spark.read.format('csv').options(header = 'True').load('data/football_matches.csv')\n",
    "df_matches.limit(10).show()"
   ]
  },
  {
   "cell_type": "code",
   "execution_count": 3,
   "id": "4b0c2391",
   "metadata": {},
   "outputs": [
    {
     "name": "stdout",
     "output_type": "stream",
     "text": [
      "+--------+---+------+----------+--------------+--------------+------------------+-------------------+-------------+----------------+-----------------+---------+\n",
      "|Match_ID|Div|Season|      Date|      HomeTeam|      AwayTeam|ButsEquipeDomicile|ButsEquipeExterieur|ResultatFinal|VictoireDomicile|VictoireExterieur|MatchNull|\n",
      "+--------+---+------+----------+--------------+--------------+------------------+-------------------+-------------+----------------+-----------------+---------+\n",
      "|       1| D2|  2009|2010-04-04|    Oberhausen|Kaiserslautern|                 2|                  1|            H|               1|                0|        0|\n",
      "|       2| D2|  2009|2009-11-01|   Munich 1860|Kaiserslautern|                 0|                  1|            A|               0|                1|        0|\n",
      "|       3| D2|  2009|2009-10-04| Frankfurt FSV|Kaiserslautern|                 1|                  1|            D|               0|                0|        1|\n",
      "|       4| D2|  2009|2010-02-21| Frankfurt FSV|     Karlsruhe|                 2|                  1|            H|               1|                0|        0|\n",
      "|       5| D2|  2009|2009-12-06|         Ahlen|     Karlsruhe|                 1|                  3|            A|               0|                1|        0|\n",
      "|       6| D2|  2009|2010-04-03|  Union Berlin|     Karlsruhe|                 1|                  1|            D|               0|                0|        1|\n",
      "|       7| D2|  2009|2009-08-14|     Paderborn|     Karlsruhe|                 2|                  0|            H|               1|                0|        0|\n",
      "|       8| D2|  2009|2010-03-08|     Bielefeld|     Karlsruhe|                 0|                  1|            A|               0|                1|        0|\n",
      "|       9| D2|  2009|2009-09-26|Kaiserslautern|     Karlsruhe|                 2|                  0|            H|               1|                0|        0|\n",
      "|      10| D2|  2009|2009-11-21| Hansa Rostock|     Karlsruhe|                 2|                  1|            H|               1|                0|        0|\n",
      "+--------+---+------+----------+--------------+--------------+------------------+-------------------+-------------+----------------+-----------------+---------+\n",
      "\n"
     ]
    }
   ],
   "source": [
    "# renomer les colones principales\n",
    "df_matches = df_matches.selectExpr(\n",
    "    \"*\",\n",
    "    \"`FTHG` AS `ButsEquipeDomicile`\",\n",
    "    \"`FTAG` AS `ButsEquipeExterieur`\",\n",
    "    \"`FTR` AS `ResultatFinal`\",\n",
    ")\n",
    "df_matches = df_matches.drop(\"FTHG\",\"FTAG\",\"FTR\")\n",
    "\n",
    "#  creation des colonnes binaires pour victoire, defaite et matche null\n",
    "df_matches = (df_matches.withColumn(\"VictoireDomicile\", when(col(\"ResultatFinal\") == \"H\", 1).otherwise(0)).withColumn(\"VictoireExterieur\", when(col(\"ResultatFinal\") == \"A\", 1).otherwise(0)).withColumn(\"MatchNull\", when(col(\"ResultatFinal\") == \"D\", 1).otherwise(0)))\n",
    "\n",
    "df_matches.limit(10).show()"
   ]
  },
  {
   "cell_type": "code",
   "execution_count": 15,
   "id": "2b7b935a",
   "metadata": {},
   "outputs": [
    {
     "name": "stdout",
     "output_type": "stream",
     "text": [
      "+--------+---+------+----------+-------------+----------+------------------+-------------------+-------------+----------------+-----------------+---------+\n",
      "|Match_ID|Div|Season|      Date|     HomeTeam|  AwayTeam|ButsEquipeDomicile|ButsEquipeExterieur|ResultatFinal|VictoireDomicile|VictoireExterieur|MatchNull|\n",
      "+--------+---+------+----------+-------------+----------+------------------+-------------------+-------------+----------------+-----------------+---------+\n",
      "|      21| D1|  2009|2010-02-06|       Bochum|Leverkusen|                 1|                  1|            D|               0|                0|        1|\n",
      "|      22| D1|  2009|2009-11-22|Bayern Munich|Leverkusen|                 1|                  1|            D|               0|                0|        1|\n",
      "|      23| D1|  2009|2010-05-08|   M'gladbach|Leverkusen|                 1|                  1|            D|               0|                0|        1|\n",
      "|      24| D1|  2009|2009-08-08|        Mainz|Leverkusen|                 2|                  2|            D|               0|                0|        1|\n",
      "|      25| D1|  2009|2009-10-17|      Hamburg|Leverkusen|                 0|                  0|            D|               0|                0|        1|\n",
      "|      26| D1|  2009|2010-04-17|    Stuttgart|Leverkusen|                 2|                  1|            H|               1|                0|        0|\n",
      "|      27| D1|  2009|2010-03-20|     Dortmund|Leverkusen|                 3|                  0|            H|               1|                0|        0|\n",
      "|      28| D1|  2009|2009-10-31|   Schalke 04|Leverkusen|                 2|                  2|            D|               0|                0|        1|\n",
      "|      29| D1|  2009|2009-08-22|     Freiburg|Leverkusen|                 0|                  5|            A|               0|                1|        0|\n",
      "|      30| D1|  2009|2010-02-21|Werder Bremen|Leverkusen|                 2|                  2|            D|               0|                0|        1|\n",
      "+--------+---+------+----------+-------------+----------+------------------+-------------------+-------------+----------------+-----------------+---------+\n",
      "\n"
     ]
    }
   ],
   "source": [
    "# filtre D1 entre 2000 et 2015\n",
    "df_bundesliga = df_matches.filter((col(\"Div\") == \"D1\") & (col(\"Season\") >= 2000 ) & (col(\"Season\") <= 2015 ))\n",
    "df_bundesliga.limit(10).show()"
   ]
  },
  {
   "cell_type": "code",
   "execution_count": null,
   "id": "1072b08e",
   "metadata": {},
   "outputs": [
    {
     "name": "stdout",
     "output_type": "stream",
     "text": [
      "+------+--------------+---------------------+---------------------+----------------------+------------------------+--------------------+\n",
      "|Season|        Equipe|TotalVictoireDomicile|TotaldefaitesDomicile|TotalMatchNullDomicile|TotalButsMarquesDomicile|ButsEcaissesDomicile|\n",
      "+------+--------------+---------------------+---------------------+----------------------+------------------------+--------------------+\n",
      "|  2011|       Hamburg|                    3|                    7|                     7|                    19.0|                29.0|\n",
      "|  2005|Kaiserslautern|                    5|                    7|                     5|                    26.0|                33.0|\n",
      "|  2006|       Cottbus|                    6|                    6|                     5|                    21.0|                22.0|\n",
      "|  2001|      St Pauli|                    4|                    9|                     4|                    19.0|                28.0|\n",
      "|  2005|         Mainz|                    6|                    4|                     7|                    31.0|                23.0|\n",
      "|  2006|       Hamburg|                    4|                    4|                     9|                    22.0|                19.0|\n",
      "|  2003|     Stuttgart|                    9|                    1|                     7|                    29.0|                13.0|\n",
      "|  2015|        Hertha|                    9|                    3|                     5|                    24.0|                15.0|\n",
      "|  2003| Hansa Rostock|                   10|                    6|                     1|                    34.0|                18.0|\n",
      "|  2012|      Hannover|                    9|                    3|                     5|                    34.0|                23.0|\n",
      "+------+--------------+---------------------+---------------------+----------------------+------------------------+--------------------+\n",
      "\n"
     ]
    }
   ],
   "source": [
    "# statiqtique des matchs à domicile \n",
    "df_domicile = df_bundesliga.groupBy('Season', 'HomeTeam') \\\n",
    "    .agg(\n",
    "        sum('VictoireDomicile').alias('TotalVictoireDomicile'),\n",
    "        sum('VictoireExterieur').alias('TotaldefaitesDomicile'),\n",
    "        sum('MatchNull').alias('TotalMatchNullDomicile'),\n",
    "        sum('ButsEquipeDomicile').alias('TotalButsMarquesDomicile'),\n",
    "        sum('ButsEquipeExterieur').alias('TotalButsEcaissesDomicile')\n",
    "    ) \\\n",
    "    .withColumnRenamed('HomeTeam', 'Equipe')\n",
    "\n",
    "df_domicile.limit(10).show()"
   ]
  },
  {
   "cell_type": "code",
   "execution_count": 19,
   "id": "30b1e338",
   "metadata": {},
   "outputs": [
    {
     "name": "stdout",
     "output_type": "stream",
     "text": [
      "+------+--------------+---------------------+---------------------+----------------------+------------------------+--------------------+\n",
      "|Season|        Equipe|TotalVictoireDomicile|TotaldefaitesDomicile|TotalMatchNullDomicile|TotalButsMarquesDomicile|ButsEcaissesDomicile|\n",
      "+------+--------------+---------------------+---------------------+----------------------+------------------------+--------------------+\n",
      "|  2011|       Hamburg|                    3|                    7|                     7|                    19.0|                29.0|\n",
      "|  2005|Kaiserslautern|                    5|                    7|                     5|                    26.0|                33.0|\n",
      "|  2006|       Cottbus|                    6|                    6|                     5|                    21.0|                22.0|\n",
      "|  2001|      St Pauli|                    4|                    9|                     4|                    19.0|                28.0|\n",
      "|  2005|         Mainz|                    6|                    4|                     7|                    31.0|                23.0|\n",
      "|  2006|       Hamburg|                    4|                    4|                     9|                    22.0|                19.0|\n",
      "|  2003|     Stuttgart|                    9|                    1|                     7|                    29.0|                13.0|\n",
      "|  2015|        Hertha|                    9|                    3|                     5|                    24.0|                15.0|\n",
      "|  2003| Hansa Rostock|                   10|                    6|                     1|                    34.0|                18.0|\n",
      "|  2012|      Hannover|                    9|                    3|                     5|                    34.0|                23.0|\n",
      "+------+--------------+---------------------+---------------------+----------------------+------------------------+--------------------+\n",
      "\n"
     ]
    }
   ],
   "source": [
    "# statiqtique des matchs à l'exterieur \n",
    "df_exterieur = df_bundesliga.groupBy('Season', 'AwayTeam') \\\n",
    "    .agg(\n",
    "        sum('VictoireExterieur').alias('TotalVictoireExterieur'),\n",
    "        sum('VictoireDomicile').alias('TotaldefaitesExterieur'),\n",
    "        sum('MatchNull').alias('TotalMatchNullExterieur'),\n",
    "        sum('ButsEquipeExterieur').alias('TotalButsMarquesExterieur'),\n",
    "        sum('ButsEquipeDomicile').alias('TotalButsEncaissesExterieur'),\n",
    "    ) \\\n",
    "    .withColumnRenamed('AwayTeam', 'Equipe')\n",
    "\n",
    "df_domicile.limit(10).show()"
   ]
  }
 ],
 "metadata": {
  "kernelspec": {
   "display_name": "Python 3",
   "language": "python",
   "name": "python3"
  },
  "language_info": {
   "codemirror_mode": {
    "name": "ipython",
    "version": 3
   },
   "file_extension": ".py",
   "mimetype": "text/x-python",
   "name": "python",
   "nbconvert_exporter": "python",
   "pygments_lexer": "ipython3",
   "version": "3.13.2"
  }
 },
 "nbformat": 4,
 "nbformat_minor": 5
}
